{
 "cells": [
  {
   "cell_type": "markdown",
   "metadata": {},
   "source": [
    "so pysal, and other python libs, have subpackages"
   ]
  },
  {
   "cell_type": "code",
   "execution_count": 2,
   "metadata": {},
   "outputs": [],
   "source": [
    "from pysal import esda\n",
    "from pysal import weights"
   ]
  },
  {
   "cell_type": "code",
   "execution_count": 3,
   "metadata": {},
   "outputs": [],
   "source": [
    "import pysal"
   ]
  },
  {
   "cell_type": "code",
   "execution_count": 4,
   "metadata": {},
   "outputs": [
    {
     "name": "stdout",
     "output_type": "stream",
     "text": [
      "Help on package pysal.weights in pysal:\n",
      "\n",
      "NAME\n",
      "    pysal.weights\n",
      "\n",
      "PACKAGE CONTENTS\n",
      "    Contiguity\n",
      "    Distance\n",
      "    Wsets\n",
      "    _contW_binning\n",
      "    _contW_lists\n",
      "    _contW_rtree\n",
      "    spatial_lag\n",
      "    spintW\n",
      "    user\n",
      "    util\n",
      "    weights\n",
      "\n",
      "FUNCTIONS\n",
      "    Warn = warn(...)\n",
      "        Issue a warning, or maybe ignore it or raise an exception.\n",
      "\n",
      "DATA\n",
      "    WT_TYPE = {'queen': 1, 'rook': 2}\n",
      "\n",
      "FILE\n",
      "    /home/ja/miniconda3/envs/gds/lib/python3.6/site-packages/pysal/weights/__init__.py\n",
      "\n",
      "\n"
     ]
    }
   ],
   "source": [
    "help(weights)"
   ]
  },
  {
   "cell_type": "code",
   "execution_count": 5,
   "metadata": {},
   "outputs": [
    {
     "name": "stdout",
     "output_type": "stream",
     "text": [
      "Help on package pysal:\n",
      "\n",
      "NAME\n",
      "    pysal\n",
      "\n",
      "DESCRIPTION\n",
      "    Python Spatial Analysis Library\n",
      "    ===============================\n",
      "    \n",
      "    \n",
      "    Documentation\n",
      "    -------------\n",
      "    PySAL documentation is available in two forms: python docstrings and an html         webpage at http://pysal.org/\n",
      "    \n",
      "    Available sub-packages\n",
      "    ----------------------\n",
      "    \n",
      "    cg\n",
      "        Basic data structures and tools for Computational Geometry\n",
      "    core\n",
      "        Basic functions used by several sub-packages\n",
      "    esda\n",
      "        Tools for Exploratory Spatial Data Analysis\n",
      "    examples\n",
      "        Example data sets used by several sub-packages for examples and testing\n",
      "    network\n",
      "        Spatial analysis on networks\n",
      "    region\n",
      "        Regionalization algorithms and spatially constrained clustering\n",
      "    spatial_dynamics\n",
      "        Space-time exploratory methods and clustering\n",
      "    spreg\n",
      "        Spatial regression and econometrics\n",
      "    weights\n",
      "        Tools for creating and manipulating weights\n",
      "    contrib\n",
      "        Package for interfacing with third-party libraries\n",
      "    \n",
      "    Utilities\n",
      "    ---------\n",
      "    `fileio`_\n",
      "        Tool for file input and output, supports many well known file formats\n",
      "\n",
      "PACKAGE CONTENTS\n",
      "    cg (package)\n",
      "    common\n",
      "    config\n",
      "    contrib (package)\n",
      "    core (package)\n",
      "    esda (package)\n",
      "    examples (package)\n",
      "    inequality (package)\n",
      "    network (package)\n",
      "    region (package)\n",
      "    spatial_dynamics (package)\n",
      "    spreg (package)\n",
      "    test_NameSpace\n",
      "    version\n",
      "    weights (package)\n",
      "\n",
      "SUBMODULES\n",
      "    IOHandlers\n",
      "    directional\n",
      "    ergodic\n",
      "    pdio\n",
      "\n",
      "FUNCTIONS\n",
      "    warn(...)\n",
      "        Issue a warning, or maybe ignore it or raise an exception.\n",
      "\n",
      "DATA\n",
      "    MISSINGVALUE = None\n",
      "    __warningregistry__ = {'version': 38, (\"PySAL's API will be changed on...\n",
      "    new_api_date = datetime.date(2018, 12, 31)\n",
      "\n",
      "VERSION\n",
      "    1.14.4\n",
      "\n",
      "FILE\n",
      "    /home/ja/miniconda3/envs/gds/lib/python3.6/site-packages/pysal/__init__.py\n",
      "\n",
      "\n"
     ]
    }
   ],
   "source": [
    "help(pysal)"
   ]
  },
  {
   "cell_type": "code",
   "execution_count": 7,
   "metadata": {},
   "outputs": [
    {
     "name": "stdout",
     "output_type": "stream",
     "text": [
      "Help on package pysal.spreg in pysal:\n",
      "\n",
      "NAME\n",
      "    pysal.spreg\n",
      "\n",
      "PACKAGE CONTENTS\n",
      "    diagnostics\n",
      "    diagnostics_sp\n",
      "    diagnostics_sur\n",
      "    diagnostics_tsls\n",
      "    error_sp\n",
      "    error_sp_het\n",
      "    error_sp_het_regimes\n",
      "    error_sp_hom\n",
      "    error_sp_hom_regimes\n",
      "    error_sp_regimes\n",
      "    ml_error\n",
      "    ml_error_regimes\n",
      "    ml_lag\n",
      "    ml_lag_regimes\n",
      "    ols\n",
      "    ols_regimes\n",
      "    opt\n",
      "    probit\n",
      "    regimes\n",
      "    robust\n",
      "    sputils\n",
      "    summary_output\n",
      "    sur\n",
      "    sur_error\n",
      "    sur_lag\n",
      "    sur_utils\n",
      "    twosls\n",
      "    twosls_regimes\n",
      "    twosls_sp\n",
      "    twosls_sp_regimes\n",
      "    user_output\n",
      "    utils\n",
      "    w_utils\n",
      "\n",
      "SUBMODULES\n",
      "    REGI\n",
      "    SUMMARY\n",
      "    USER\n",
      "    UTILS\n",
      "\n",
      "FILE\n",
      "    /home/ja/miniconda3/envs/gds/lib/python3.6/site-packages/pysal/spreg/__init__.py\n",
      "\n",
      "\n"
     ]
    }
   ],
   "source": [
    "help(pysal.spreg)"
   ]
  }
 ],
 "metadata": {
  "kernelspec": {
   "display_name": "Python 3",
   "language": "python",
   "name": "python3"
  },
  "language_info": {
   "codemirror_mode": {
    "name": "ipython",
    "version": 3
   },
   "file_extension": ".py",
   "mimetype": "text/x-python",
   "name": "python",
   "nbconvert_exporter": "python",
   "pygments_lexer": "ipython3",
   "version": "3.6.8"
  }
 },
 "nbformat": 4,
 "nbformat_minor": 2
}
