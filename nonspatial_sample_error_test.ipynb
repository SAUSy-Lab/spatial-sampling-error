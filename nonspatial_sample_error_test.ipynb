{
 "cells": [
  {
   "cell_type": "markdown",
   "metadata": {},
   "source": [
    "A neighbourhood, $i$, has a set of observations (i.e. a population). \n",
    "\n",
    "Each observation has a value, $x \\in X$. Where $X$ is a vector of observations of length $N$\n",
    "\n",
    "This has a mean, $\\mu$ (the expected value of $x$)\n",
    "\n",
    "And a standard deviation, $\\sigma$ (level of disperion around the mean)\n",
    "\n",
    "However, we only have as sample of $N$, of only length $n$\n",
    "\n",
    "It has a mean, $\\hat x$\n",
    "\n",
    "And a sample standard deviation, $s$\n",
    "\n",
    "The **sampling distribution** is the probability distribution of a given random-sample-based statistic \n",
    "\n",
    "(e.g. sample population many times, each time record mean of each sample, then plot the distribution of these sample means)\n",
    "\n",
    "The **standard error (SE)** of a statistic (usually an estimate of a parameter) is the standard deviation of its sampling distribution. \n",
    "\n",
    "i.e. in most cases, the standard error of the mean is a measure of the dispersion of sample means around the population mean. \n",
    "\n",
    "It can be approximated as.\n",
    "\n",
    "$SE = \\frac{s}{\\sqrt{n}}$\n",
    "\n",
    "As $n$, the sample size, increases, then the SE decreases.\n",
    "\n",
    "SE is often used to generate confidence intervals of the unknown population mean.\n",
    "\n",
    "The following expressions can be used to calculate the upper and lower 95% confidence limits\n",
    "\n",
    "Upper 95% limit = $\\hat{x} + 1.96 * SE$\n",
    "\n",
    "Lower 95% limit = $\\hat{x} - 1.96 * SE$\n",
    "\n",
    "(1.96 is the Z pertaining to 95% of the area covering a normal distribution)\n",
    "\n"
   ]
  },
  {
   "cell_type": "code",
   "execution_count": 1,
   "metadata": {},
   "outputs": [],
   "source": [
    "import random\n",
    "import numpy as np\n",
    "import pandas as pd\n",
    "import seaborn as sns\n",
    "import matplotlib.pyplot as plt\n",
    "from scipy import stats"
   ]
  },
  {
   "cell_type": "code",
   "execution_count": 12,
   "metadata": {},
   "outputs": [
    {
     "name": "stdout",
     "output_type": "stream",
     "text": [
      "0.9195378617442684 0.05157228108584039\n",
      "0.8184561908160213 0.9195378617442684 1.0206195326725156\n"
     ]
    },
    {
     "data": {
      "image/png": "[encoded data removed]",
      "text/plain": [
       "<Figure size 432x288 with 1 Axes>"
      ]
     },
     "metadata": {
      "needs_background": "light"
     },
     "output_type": "display_data"
    }
   ],
   "source": [
    "# testing for sampling from a population with normally distributed data\n",
    "\n",
    "s = 100\n",
    "Xn = np.random.normal(1, 0.5, s)\n",
    "sns.distplot(Xn);\n",
    "m = (np.mean(Xn))\n",
    "se = (np.std(Xn) / s**0.5)\n",
    "print(m, se)\n",
    "\n",
    "ciu = m + se * 1.96\n",
    "cil = m - se * 1.96\n",
    "print(cil,m,ciu)"
   ]
  }
 ],
 "metadata": {
  "kernelspec": {
   "display_name": "Python 3",
   "language": "python",
   "name": "python3"
  },
  "language_info": {
   "codemirror_mode": {
    "name": "ipython",
    "version": 3
   },
   "file_extension": ".py",
   "mimetype": "text/x-python",
   "name": "python",
   "nbconvert_exporter": "python",
   "pygments_lexer": "ipython3",
   "version": "3.6.8"
  }
 },
 "nbformat": 4,
 "nbformat_minor": 2
}
